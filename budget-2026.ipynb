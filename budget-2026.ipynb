{
 "cells": [
  {
   "cell_type": "code",
   "execution_count": 13,
   "id": "1ade3f03",
   "metadata": {},
   "outputs": [],
   "source": [
    "import pandas as pd\n",
    "from IPython.display import display, HTML"
   ]
  },
  {
   "cell_type": "markdown",
   "id": "56765d90",
   "metadata": {},
   "source": [
    "# Condo Info\n",
    "\n",
    "Association name | Meadow Woods\n",
    "--- | ---\n",
    "Association number | 504\n",
    "Total # of units | 27\n",
    "Budget year | 2026\n",
    "Budget type | M"
   ]
  },
  {
   "cell_type": "markdown",
   "id": "f6678d35",
   "metadata": {},
   "source": [
    "# 2026 Condo Income"
   ]
  },
  {
   "cell_type": "code",
   "execution_count": 14,
   "id": "2a911961",
   "metadata": {},
   "outputs": [
    {
     "data": {
      "text/plain": [
       "14124.833333333334"
      ]
     },
     "execution_count": 14,
     "metadata": {},
     "output_type": "execute_result"
    }
   ],
   "source": [
    "prev_year_budget_income = 178010\n",
    "next_year_budget_income = 169498\n",
    "income_by_month = next_year_budget_income / 12\n",
    "income_by_month"
   ]
  },
  {
   "cell_type": "markdown",
   "id": "d39dcb45",
   "metadata": {},
   "source": [
    "# 2026 Assessment Rates"
   ]
  },
  {
   "cell_type": "code",
   "execution_count": 15,
   "id": "de8cad91",
   "metadata": {},
   "outputs": [
    {
     "data": {
      "text/html": [
       "<table border=\"1\" class=\"dataframe\">\n",
       "  <thead>\n",
       "    <tr style=\"text-align: right;\">\n",
       "      <th>Units</th>\n",
       "      <th>Rate</th>\n",
       "    </tr>\n",
       "  </thead>\n",
       "  <tbody>\n",
       "    <tr>\n",
       "      <td>Unit 27</td>\n",
       "      <td>4.8743</td>\n",
       "    </tr>\n",
       "    <tr>\n",
       "      <td>Unit 14 and 16</td>\n",
       "      <td>4.1237</td>\n",
       "    </tr>\n",
       "    <tr>\n",
       "      <td>Unit 13 and 15</td>\n",
       "      <td>3.9100</td>\n",
       "    </tr>\n",
       "    <tr>\n",
       "      <td>Unit 8 and 22</td>\n",
       "      <td>3.7595</td>\n",
       "    </tr>\n",
       "    <tr>\n",
       "      <td>Unit 6 and 24</td>\n",
       "      <td>3.7371</td>\n",
       "    </tr>\n",
       "    <tr>\n",
       "      <td>Unit 7 and 21</td>\n",
       "      <td>3.6957</td>\n",
       "    </tr>\n",
       "    <tr>\n",
       "      <td>Unit 5 and 23</td>\n",
       "      <td>3.6733</td>\n",
       "    </tr>\n",
       "    <tr>\n",
       "      <td>Unit 10 and 20</td>\n",
       "      <td>3.6509</td>\n",
       "    </tr>\n",
       "    <tr>\n",
       "      <td>Unit 12 and 18</td>\n",
       "      <td>3.6190</td>\n",
       "    </tr>\n",
       "    <tr>\n",
       "      <td>Unit 4 and 26</td>\n",
       "      <td>3.5327</td>\n",
       "    </tr>\n",
       "    <tr>\n",
       "      <td>Unit 9 and 19</td>\n",
       "      <td>3.5168</td>\n",
       "    </tr>\n",
       "    <tr>\n",
       "      <td>Unit 11 and 17</td>\n",
       "      <td>3.4848</td>\n",
       "    </tr>\n",
       "    <tr>\n",
       "      <td>Unit 2</td>\n",
       "      <td>3.4656</td>\n",
       "    </tr>\n",
       "    <tr>\n",
       "      <td>Unit 1 and 3</td>\n",
       "      <td>3.4177</td>\n",
       "    </tr>\n",
       "    <tr>\n",
       "      <td>Unit 25</td>\n",
       "      <td>3.4177</td>\n",
       "    </tr>\n",
       "  </tbody>\n",
       "</table>"
      ],
      "text/plain": [
       "<IPython.core.display.HTML object>"
      ]
     },
     "metadata": {},
     "output_type": "display_data"
    }
   ],
   "source": [
    "assessments_df = pd.read_csv(\"assessment_rates.csv\")\n",
    "assessments_df.reset_index(drop=True, inplace=True)\n",
    "\n",
    "# Sort by Rate descending\n",
    "assessments_df = assessments_df.sort_values(by='Rate', ascending=False)\n",
    "\n",
    "# Display without index\n",
    "display(HTML(assessments_df.to_html(index=False)))"
   ]
  },
  {
   "cell_type": "markdown",
   "id": "dcb0cffb",
   "metadata": {},
   "source": [
    "# 2026 Unit Assessments"
   ]
  },
  {
   "cell_type": "code",
   "execution_count": 16,
   "id": "c3772761",
   "metadata": {},
   "outputs": [
    {
     "data": {
      "text/html": [
       "<table border=\"1\" class=\"dataframe\">\n",
       "  <thead>\n",
       "    <tr style=\"text-align: right;\">\n",
       "      <th>Units</th>\n",
       "      <th>Rate</th>\n",
       "    </tr>\n",
       "  </thead>\n",
       "  <tbody>\n",
       "    <tr>\n",
       "      <td>Unit 27</td>\n",
       "      <td>688.486751</td>\n",
       "    </tr>\n",
       "    <tr>\n",
       "      <td>Unit 14 and 16</td>\n",
       "      <td>582.465752</td>\n",
       "    </tr>\n",
       "    <tr>\n",
       "      <td>Unit 13 and 15</td>\n",
       "      <td>552.280983</td>\n",
       "    </tr>\n",
       "    <tr>\n",
       "      <td>Unit 8 and 22</td>\n",
       "      <td>531.023109</td>\n",
       "    </tr>\n",
       "    <tr>\n",
       "      <td>Unit 6 and 24</td>\n",
       "      <td>527.859147</td>\n",
       "    </tr>\n",
       "    <tr>\n",
       "      <td>Unit 7 and 21</td>\n",
       "      <td>522.011466</td>\n",
       "    </tr>\n",
       "    <tr>\n",
       "      <td>Unit 5 and 23</td>\n",
       "      <td>518.847503</td>\n",
       "    </tr>\n",
       "    <tr>\n",
       "      <td>Unit 10 and 20</td>\n",
       "      <td>515.683540</td>\n",
       "    </tr>\n",
       "    <tr>\n",
       "      <td>Unit 12 and 18</td>\n",
       "      <td>511.177718</td>\n",
       "    </tr>\n",
       "    <tr>\n",
       "      <td>Unit 4 and 26</td>\n",
       "      <td>498.987987</td>\n",
       "    </tr>\n",
       "    <tr>\n",
       "      <td>Unit 9 and 19</td>\n",
       "      <td>496.742139</td>\n",
       "    </tr>\n",
       "    <tr>\n",
       "      <td>Unit 11 and 17</td>\n",
       "      <td>492.222192</td>\n",
       "    </tr>\n",
       "    <tr>\n",
       "      <td>Unit 2</td>\n",
       "      <td>489.510224</td>\n",
       "    </tr>\n",
       "    <tr>\n",
       "      <td>Unit 1 and 3</td>\n",
       "      <td>482.744429</td>\n",
       "    </tr>\n",
       "    <tr>\n",
       "      <td>Unit 25</td>\n",
       "      <td>482.744429</td>\n",
       "    </tr>\n",
       "  </tbody>\n",
       "</table>"
      ],
      "text/plain": [
       "<IPython.core.display.HTML object>"
      ]
     },
     "metadata": {},
     "output_type": "display_data"
    }
   ],
   "source": [
    "unit_assessments = pd.DataFrame(assessments_df)\n",
    "unit_assessments['Rate'] = (unit_assessments['Rate'] * 0.01) * income_by_month\n",
    "# Display without index\n",
    "display(HTML(unit_assessments.to_html(index=False)))"
   ]
  },
  {
   "cell_type": "code",
   "execution_count": null,
   "id": "bdc6a557",
   "metadata": {},
   "outputs": [],
   "source": []
  }
 ],
 "metadata": {
  "kernelspec": {
   "display_name": "Python 3",
   "language": "python",
   "name": "python3"
  },
  "language_info": {
   "codemirror_mode": {
    "name": "ipython",
    "version": 3
   },
   "file_extension": ".py",
   "mimetype": "text/x-python",
   "name": "python",
   "nbconvert_exporter": "python",
   "pygments_lexer": "ipython3",
   "version": "3.12.1"
  }
 },
 "nbformat": 4,
 "nbformat_minor": 5
}
